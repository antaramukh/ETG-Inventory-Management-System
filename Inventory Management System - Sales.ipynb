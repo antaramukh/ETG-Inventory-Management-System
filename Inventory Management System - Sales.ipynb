{
 "cells": [
  {
   "cell_type": "markdown",
   "id": "6694f055",
   "metadata": {},
   "source": [
    "# Inventory Management System - Sales"
   ]
  },
  {
   "cell_type": "code",
   "execution_count": 1,
   "id": "39406309",
   "metadata": {},
   "outputs": [],
   "source": [
    "import json\n",
    "import time\n",
    "import pandas as pd"
   ]
  },
  {
   "cell_type": "markdown",
   "id": "664411af",
   "metadata": {},
   "source": [
    "# Read Inventory"
   ]
  },
  {
   "cell_type": "code",
   "execution_count": 2,
   "id": "143c6b52",
   "metadata": {},
   "outputs": [],
   "source": [
    "# Loading the Record JSON File\n",
    "\n",
    "fd=open(\"record.json\",'r')\n",
    "txt=fd.read()\n",
    "fd.close()\n",
    "\n",
    "product=json.loads(txt)"
   ]
  },
  {
   "cell_type": "code",
   "execution_count": 3,
   "id": "245c94e5",
   "metadata": {},
   "outputs": [],
   "source": [
    "prod_id_lst=[]\n",
    "prod_nm_lst=[]\n",
    "prod_mrp_lst=[]\n",
    "prod_dp_lst=[]\n",
    "prod_cat_lst=[]\n",
    "prod_qty_lst=[]\n",
    "\n",
    "for i,i_info in product.items():\n",
    "    prod_id_lst.append(int(i))\n",
    "    prod_nm_lst.append(i_info['product_name'])\n",
    "    prod_mrp_lst.append(i_info['retail_price'])\n",
    "    prod_dp_lst.append(i_info['discounted_price'])\n",
    "    prod_qty_lst.append(i_info['qty'])\n",
    "    prod_cat_lst.append(i_info['category'])\n",
    "\n",
    "dict = {'Product ID': prod_id_lst, 'Product Name': prod_nm_lst,'MRP': prod_mrp_lst, \"Disc. Price\": prod_dp_lst,\"Category\": prod_cat_lst, \"Available Qty\": prod_qty_lst} \n",
    "compare_data=pd.DataFrame(dict)"
   ]
  },
  {
   "cell_type": "markdown",
   "id": "f821f7e8",
   "metadata": {},
   "source": [
    "# Purchasing Product"
   ]
  },
  {
   "cell_type": "code",
   "execution_count": 11,
   "id": "0fd1861b",
   "metadata": {},
   "outputs": [
    {
     "name": "stdout",
     "output_type": "stream",
     "text": [
      "Welcome to the Store !\n",
      "Choose the Product you would like to Purchase\n",
      "\n",
      " Product ID       Product Name   MRP  Disc. Price            Category  Available Qty\n",
      "          1               Milk  23.5         20.0             Grocery             26\n",
      "          2            Cereals  45.0         35.0             Grocery             34\n",
      "          3             Butter  42.5         37.0             Grocery             31\n",
      "          4            Cookies  53.5         50.0             Grocery             23\n",
      "          5            Yoghurt  26.5         20.0             Grocery              0\n",
      "          6              Honey  73.5         70.0             Grocery             64\n",
      "          7              Chips  10.5          7.0             Grocery             20\n",
      "          8             Cheese  56.5         50.0             Grocery             40\n",
      "          9              Bread  26.0         22.0             Grocery             20\n",
      "         10             Pulses  29.5         25.0             Grocery             30\n",
      "         11              Brush  23.5         20.0    Beauty & Hygiene             30\n",
      "         13            Shampoo  23.5         20.0    Beauty & Hygiene             27\n",
      "         14          Mouthwash  23.5         20.0    Beauty & Hygiene             28\n",
      "         16                Gel  23.5         20.0    Beauty & Hygiene             30\n",
      "         17               Soap  23.5         20.0    Beauty & Hygiene             30\n",
      "         18         Toothpaste  23.5         20.0    Beauty & Hygiene             30\n",
      "         19          Deodorant  23.5         20.0    Beauty & Hygiene             30\n",
      "         20          Sunscreen  23.5         20.0    Beauty & Hygiene             30\n",
      "         21             Potato  19.5         16.0 Vegetables & Fruits             30\n",
      "         22              Onion  50.5         45.0 Vegetables & Fruits             30\n",
      "         23             Tomato  23.5         20.0 Vegetables & Fruits             30\n",
      "         24       Bottle Gourd  23.5         20.0 Vegetables & Fruits             28\n",
      "         25             Radish  56.5         49.0 Vegetables & Fruits             30\n",
      "         26            Coconut  33.5         30.0 Vegetables & Fruits             30\n",
      "         27              Apple  23.5         20.0 Vegetables & Fruits             28\n",
      "         28             Orange 163.5        150.0 Vegetables & Fruits             26\n",
      "         29          Pineapple  99.5         89.5 Vegetables & Fruits             27\n",
      "         30             Grapes 123.5        120.0 Vegetables & Fruits             30\n",
      "         32                Mop  45.0         42.0           Household              2\n",
      "         31          Detergent  45.0         42.0           Household              0\n",
      "         33            Cleaner  36.0         45.0           Household              6\n",
      "         34              Broom  76.0         67.0           Household              0\n",
      "         36    Fabric Softener  89.0         84.0           Household             13\n",
      "         37 Dishwashing Liquid  56.0         51.0           Household              0\n",
      "         38      Kitchen Towel  36.0         32.0           Household             11\n",
      "\n",
      "\n",
      "\n",
      "Enter the product ID: 12\n",
      "Product ID does not exist. Enter a valid product ID: 31\n",
      "Sorry, there is no stock for this product.\n",
      "Would you like to purchase another product? (Y/N): y\n",
      "Enter the product ID: 33\n",
      "Enter the quantity of product: 7\n",
      "Sorry, there is not enough stock\n",
      "We have 6 number of this product remaining.\n",
      "Would you like to buy all? (Y/N): y\n",
      "Product:  Cleaner\n",
      "Price:  45.0\n",
      "Quantity:  6\n",
      "--------------------------------------------\n",
      "Billing Price:  270.0\n",
      "Thank you for Shopping with Us :)\n",
      "\n"
     ]
    }
   ],
   "source": [
    "print(\"Welcome to the Store !\")\n",
    "print(\"Choose the Product you would like to Purchase\\n\")\n",
    "print(compare_data.to_string(index=False))\n",
    "print(\"\\n\\n\")\n",
    "\n",
    "def purchase(ui_prod):\n",
    "    \n",
    "    # checks whether Product ID exists in inventory\n",
    "    while(ui_prod not in product):\n",
    "        ui_prod=str(input(\"Product ID does not exist. Enter a valid product ID: \"))\n",
    "\n",
    "    # checks whether the quantity of the product is greater than 1\n",
    "    if product[ui_prod]['qty']<1:\n",
    "        print(\"Sorry, there is no stock for this product.\")\n",
    "        choice1=input(\"Would you like to purchase another product? (Y/N): \").lower()\n",
    "        if choice1=='y':\n",
    "            ui_prod=str(input(\"Enter the product ID: \"))\n",
    "            ui,uiqy=purchase(ui_prod)\n",
    "            return ui,uiqy\n",
    "        else:\n",
    "            print(\"Thank you for Visiting :)\\n\")\n",
    "            return\n",
    "\n",
    "    else:   \n",
    "        ui_qty=int(input(\"Enter the quantity of product: \"))\n",
    "        # checks whether the entered quantity of the product is greater than the quantity in inventory\n",
    "        if(ui_qty>product[ui_prod]['qty']):\n",
    "            print(\"Sorry, there is not enough stock\")\n",
    "            print(\"We have \"+ str(product[ui_prod]['qty']) +\" number of this product remaining.\")\n",
    "            choice=input(\"Would you like to buy all? (Y/N): \").lower()\n",
    "            if choice =='y':\n",
    "                ui_qty=product[ui_prod]['qty']\n",
    "                product[ui_prod]['qty']=0\n",
    "                print(\"Product: \", product[ui_prod]['product_name'])\n",
    "                print(\"Price: \", product[ui_prod]['discounted_price'])\n",
    "                print(\"Quantity: \", ui_qty)\n",
    "                print(\"--------------------------------------------\")\n",
    "                print(\"Billing Price: \", product[ui_prod]['discounted_price']*ui_qty)\n",
    "                print(\"Thank you for Shopping with Us :)\\n\")\n",
    "                return ui_prod,ui_qty\n",
    "            else:\n",
    "                print(\"Thank you for Visiting :)\\n\")\n",
    "\n",
    "        else:\n",
    "            print(\"Product: \", product[ui_prod]['product_name'])\n",
    "            print(\"Price: \", product[ui_prod]['discounted_price'])\n",
    "            print(\"Quantity: \", ui_qty)\n",
    "            print(\"--------------------------------------------\")\n",
    "            print(\"Billing Price: \", product[ui_prod]['discounted_price']*ui_qty)\n",
    "            print(\"Thank you for Shopping with Us :)\\n\")\n",
    "            product[ui_prod]['qty']-=ui_qty\n",
    "            return ui_prod,ui_qty\n",
    "\n",
    "ui_prod1=str(input(\"Enter the product ID: \"))          \n",
    "ui_prod2,ui_qty2=purchase(ui_prod1)"
   ]
  },
  {
   "cell_type": "markdown",
   "id": "8dfb0155",
   "metadata": {},
   "source": [
    "# Updating Inventory after Purchase"
   ]
  },
  {
   "cell_type": "code",
   "execution_count": 14,
   "id": "e3c8149c",
   "metadata": {},
   "outputs": [],
   "source": [
    "# Updating the Record JSON File with updated quantity\n",
    "\n",
    "fd=open(\"record.json\",'w')\n",
    "js=json.dumps(product)\n",
    "fd.write(js)\n",
    "fd.close()"
   ]
  },
  {
   "cell_type": "markdown",
   "id": "7d18c02d",
   "metadata": {},
   "source": [
    "# Sales JSON"
   ]
  },
  {
   "cell_type": "code",
   "execution_count": 16,
   "id": "e4632f3c",
   "metadata": {},
   "outputs": [],
   "source": [
    "# Loading the Sales JSON File\n",
    "\n",
    "fd=open(\"sales.json\",'r')\n",
    "txt2=fd.read()\n",
    "fd.close()\n",
    "\n",
    "sales=json.loads(txt2)"
   ]
  },
  {
   "cell_type": "code",
   "execution_count": 17,
   "id": "f5882184",
   "metadata": {},
   "outputs": [],
   "source": [
    "sales[int(list(sales)[-1])+1]= {'product_id': ui_prod2,'prod_name':product[ui_prod2]['product_name'],'qty':ui_qty2,'amount':product[ui_prod2]['discounted_price']*ui_qty2,\"time_of_purchase\":time.ctime()}"
   ]
  },
  {
   "cell_type": "code",
   "execution_count": 18,
   "id": "f5aabbed",
   "metadata": {},
   "outputs": [],
   "source": [
    "# Adding the sale to the Sales JSON file and updating\n",
    "\n",
    "fd2=open(\"sales.json\",'w')\n",
    "js2=json.dumps(sales) \n",
    "fd2.write(js2)\n",
    "fd2.close()"
   ]
  },
  {
   "cell_type": "code",
   "execution_count": null,
   "id": "80b1b20b",
   "metadata": {},
   "outputs": [],
   "source": []
  }
 ],
 "metadata": {
  "kernelspec": {
   "display_name": "Python 3",
   "language": "python",
   "name": "python3"
  },
  "language_info": {
   "codemirror_mode": {
    "name": "ipython",
    "version": 3
   },
   "file_extension": ".py",
   "mimetype": "text/x-python",
   "name": "python",
   "nbconvert_exporter": "python",
   "pygments_lexer": "ipython3",
   "version": "3.9.4"
  }
 },
 "nbformat": 4,
 "nbformat_minor": 5
}
