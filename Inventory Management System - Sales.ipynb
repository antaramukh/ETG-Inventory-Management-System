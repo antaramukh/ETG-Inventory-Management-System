{
 "cells": [
  {
   "cell_type": "markdown",
   "id": "6694f055",
   "metadata": {},
   "source": [
    "# Inventory Management System - Sales"
   ]
  },
  {
   "cell_type": "markdown",
   "id": "a4c76992",
   "metadata": {},
   "source": [
    "# Name: Antara Mukherjee"
   ]
  },
  {
   "cell_type": "code",
   "execution_count": 75,
   "id": "39406309",
   "metadata": {},
   "outputs": [],
   "source": [
    "import json\n",
    "import time"
   ]
  },
  {
   "cell_type": "markdown",
   "id": "664411af",
   "metadata": {},
   "source": [
    "# Read Inventory"
   ]
  },
  {
   "cell_type": "code",
   "execution_count": 76,
   "id": "143c6b52",
   "metadata": {},
   "outputs": [],
   "source": [
    "# Loading the Record JSON File\n",
    "\n",
    "fd=open(\"record.json\",'r')\n",
    "txt=fd.read()\n",
    "fd.close()\n",
    "\n",
    "product=json.loads(txt)"
   ]
  },
  {
   "cell_type": "markdown",
   "id": "f821f7e8",
   "metadata": {},
   "source": [
    "# Purchasing Product"
   ]
  },
  {
   "cell_type": "code",
   "execution_count": 78,
   "id": "0fd1861b",
   "metadata": {},
   "outputs": [
    {
     "name": "stdout",
     "output_type": "stream",
     "text": [
      "Enter the product ID: 45\n",
      "Product ID does not exist. Enter a valid product ID: 27\n",
      "Enter the quantity of product: 2\n",
      "Product:  Apple\n",
      "Price:  20.0\n",
      "Quantity:  2\n",
      "Billing Price:  40.0\n"
     ]
    }
   ],
   "source": [
    "ui_prod=str(input(\"Enter the product ID: \"))\n",
    "while(ui_prod not in product):\n",
    "    ui_prod=str(input(\"Product ID does not exist. Enter a valid product ID: \"))\n",
    "    \n",
    "ui_qty=int(input(\"Enter the quantity of product: \"))\n",
    "if(ui_qty>product[ui_prod]['qty'] or product[ui_prod]['qty']<1):\n",
    "    print(\"Sorry, there is not enough stock\")\n",
    "else:\n",
    "    print(\"Product: \", product[ui_prod]['product_name'])\n",
    "    print(\"Price: \", product[ui_prod]['discounted_price'])\n",
    "    print(\"Quantity: \", ui_qty)\n",
    "    print(\"Billing Price: \", product[ui_prod]['discounted_price']*ui_qty)\n",
    "\n",
    "    product[ui_prod]['qty']-=ui_qty"
   ]
  },
  {
   "cell_type": "markdown",
   "id": "8dfb0155",
   "metadata": {},
   "source": [
    "# Updating Inventory after Purchase"
   ]
  },
  {
   "cell_type": "code",
   "execution_count": 79,
   "id": "e3c8149c",
   "metadata": {},
   "outputs": [],
   "source": [
    "# Updating the Product JSON File with updated quantity\n",
    "\n",
    "fd=open(\"record.json\",'w')\n",
    "js=json.dumps(product)\n",
    "fd.write(js)\n",
    "fd.close()"
   ]
  },
  {
   "cell_type": "markdown",
   "id": "7d18c02d",
   "metadata": {},
   "source": [
    "# Sales JSON"
   ]
  },
  {
   "cell_type": "code",
   "execution_count": 80,
   "id": "e4632f3c",
   "metadata": {},
   "outputs": [],
   "source": [
    "# Loading the Sales JSON File\n",
    "\n",
    "fd=open(\"sales.json\",'r')\n",
    "txt2=fd.read()\n",
    "fd.close()\n",
    "\n",
    "sales=json.loads(txt2)"
   ]
  },
  {
   "cell_type": "code",
   "execution_count": 81,
   "id": "f5882184",
   "metadata": {},
   "outputs": [],
   "source": [
    "sales[int(list(sales)[-1])+1]= {'product_id': ui_prod,'prod_name':product[ui_prod]['product_name'],'qty':ui_qty,'amount':product[ui_prod]['discounted_price']*ui_qty,\"time_of_purchase\":time.ctime()}"
   ]
  },
  {
   "cell_type": "code",
   "execution_count": 82,
   "id": "f5aabbed",
   "metadata": {},
   "outputs": [],
   "source": [
    "# Adding the sale to the Sales JSON file and updating\n",
    "\n",
    "fd2=open(\"sales.json\",'w')\n",
    "js2=json.dumps(sales) \n",
    "fd2.write(js2)\n",
    "fd2.close()"
   ]
  }
 ],
 "metadata": {
  "kernelspec": {
   "display_name": "Python 3",
   "language": "python",
   "name": "python3"
  },
  "language_info": {
   "codemirror_mode": {
    "name": "ipython",
    "version": 3
   },
   "file_extension": ".py",
   "mimetype": "text/x-python",
   "name": "python",
   "nbconvert_exporter": "python",
   "pygments_lexer": "ipython3",
   "version": "3.9.4"
  }
 },
 "nbformat": 4,
 "nbformat_minor": 5
}
